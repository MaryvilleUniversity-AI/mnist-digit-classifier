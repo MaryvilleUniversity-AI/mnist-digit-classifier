{
 "cells": [
  {
   "cell_type": "markdown",
   "id": "2b297478-314a-4ff6-a1de-3b012fc6b61e",
   "metadata": {},
   "source": [
    "# Handwritten Digit Recognition (MNIST) using PyTorch\n",
    "Train a simple neural network to classify handwritten digits (0–9) from the MNIST dataset."
   ]
  },
  {
   "cell_type": "markdown",
   "id": "ab0c94fb-a8f5-4b15-83fb-e2e3de378968",
   "metadata": {},
   "source": [
    "## Step 1: Import Libraries\n",
    "Import PyTorch, torchvision for datasets, and Matplotlib for visualization."
   ]
  },
  {
   "cell_type": "code",
   "execution_count": 1,
   "id": "60cb077f-9ac8-4ae7-b232-a585e7e0224a",
   "metadata": {},
   "outputs": [],
   "source": [
    "# Import libraries\n",
    "import torch                                 # Core PyTorch library\n",
    "import torch.nn as nn                        # Neural Network module\n",
    "import torch.optim as optim                  # Optimization algorithms (Adam)\n",
    "from torchvision import datasets, transforms # Tools for image datasets and preprocessing\n",
    "import numpy as np                           # Numerical operations\n",
    "import matplotlib.pyplot as plt              # Data visualization"
   ]
  },
  {
   "cell_type": "markdown",
   "id": "21156ff9-5765-4dc3-88ac-f0a66afa64d6",
   "metadata": {},
   "source": [
    "## Step 2: Load and Normalize the MNIST Dataset\n",
    "Download the dataset and normalize pixel values to the range [-1, 1]."
   ]
  },
  {
   "cell_type": "code",
   "execution_count": 2,
   "id": "c514ad49-5b23-4f80-be32-1cab39177e31",
   "metadata": {},
   "outputs": [],
   "source": [
    "# Tranform: converts images to tensors and normalizes\n",
    "transform = transforms.Compose([\n",
    "    transforms.ToTensor(),               # Convert images to PyTorch tensors\n",
    "    transforms.Normalize((0.5,), (0.5,)) # Normalize pixel values to [-1, 1] for faster learning\n",
    "])\n",
    "\n",
    "# Load training and test data\n",
    "train_data = datasets.MNIST(root='./data', train=True, transform=transform, download=True)\n",
    "test_data = datasets.MNIST(root='./data', train=False, transform=transform, download=True)\n",
    "\n",
    "# Create DataLoaders for batching\n",
    "train_loader = torch.utils.data.DataLoader(train_data, batch_size=64, shuffle=True) # Shuffle improves generalization\n",
    "test_loader = torch.utils.data.DataLoader(test_data, batch_size=64, shuffle=False) # No shuffle needed for evaluation"
   ]
  },
  {
   "cell_type": "markdown",
   "id": "49d6cd27-0e70-403b-9e3f-7483ddd87a65",
   "metadata": {},
   "source": [
    "## Step 3: Visualize the Data\n",
    "Display a few sample images from the MNIST dataset to confirm the data loaded correctly."
   ]
  },
  {
   "cell_type": "code",
   "execution_count": 3,
   "id": "73764049-576e-43c9-959d-4792ee90d0be",
   "metadata": {},
   "outputs": [
    {
     "data": {
      "image/png": "[encoded data removed]",
      "text/plain": [
       "<Figure size 800x400 with 6 Axes>"
      ]
     },
     "metadata": {},
     "output_type": "display_data"
    }
   ],
   "source": [
    "# Get a batch of training images and labels\n",
    "images, labels = next(iter(train_loader))\n",
    "\n",
    "# Set up a figure to display multiple images\n",
    "plt.figure(figsize=(8, 4))\n",
    "\n",
    "# Loop through the first 6 images in the batch\n",
    "for i in range(6):\n",
    "    plt.subplot(2, 3, i + 1)                     # Create a 2x3 grid of subplots\n",
    "    plt.imshow(images[i].squeeze(), cmap='gray') # Display image in grayscale\n",
    "    plt.title(f\"Label: {labels[i].item()}\")      # Show true label as the title\n",
    "    plt.axis('off')                              # Hide axes for a cleaner look\n",
    "\n",
    "# Render the figure\n",
    "plt.show()"
   ]
  },
  {
   "cell_type": "markdown",
   "id": "9e68b1b3-b2b6-4afb-bb0d-5a4638e56fb8",
   "metadata": {},
   "source": [
    "## Step 4: Define the Neural Network\n",
    "Create a simple feedforward neural network with one hidden layer to classify digits 0-9."
   ]
  },
  {
   "cell_type": "code",
   "execution_count": 4,
   "id": "92019676-4da3-461a-a437-fd6d45565812",
   "metadata": {},
   "outputs": [
    {
     "name": "stdout",
     "output_type": "stream",
     "text": [
      "SimpleNN(\n",
      "  (fc1): Linear(in_features=784, out_features=128, bias=True)\n",
      "  (fc2): Linear(in_features=128, out_features=10, bias=True)\n",
      ")\n"
     ]
    }
   ],
   "source": [
    "# Define a simple feedforward neural network\n",
    "class SimpleNN(nn.Module):\n",
    "    def __init__(self):\n",
    "        super(SimpleNN, self).__init__()\n",
    "        self.fc1 = nn.Linear(28 * 28, 128) # Fully connected hidden layer with 128 neurons\n",
    "        self.fc2 = nn.Linear(128, 10)      # Output layer with 10 neurons (one for each digit)\n",
    "\n",
    "    def forward(self, x):\n",
    "        x = x.view(-1, 28 * 28)            # Flatten 28 image tensors into 1D vectors\n",
    "        x = torch.relu(self.fc1(x))        # Apply ReLU activation to hidden layers\n",
    "        x = self.fc2(x)                    # Output logits for each class\n",
    "        return x\n",
    "\n",
    "# Instantiate the model\n",
    "model = SimpleNN()\n",
    "print(model) # Print model achitecture summary"
   ]
  },
  {
   "cell_type": "markdown",
   "id": "0c3c887b-ac6d-4951-a7b9-17a01e512f42",
   "metadata": {},
   "source": [
    "## Step 5: Define Loss Function and Optimizer\n",
    "Use CrossEntropyLoss to measure prediction error and the Adam optimizer to update model weights."
   ]
  },
  {
   "cell_type": "code",
   "execution_count": 5,
   "id": "58ca12b8-9e7e-418b-948a-1c9f09882198",
   "metadata": {},
   "outputs": [],
   "source": [
    "# Define the loss function and optimizer\n",
    "criterion = nn.CrossEntropyLoss()                    # Loss for multi-class classification\n",
    "optimizer = optim.Adam(model.parameters(), lr=0.001) # Adam optimizer to update weights efficiently"
   ]
  },
  {
   "cell_type": "markdown",
   "id": "7914f049-730a-4ca8-820d-5726b4ecf954",
   "metadata": {},
   "source": [
    "## Step 6: Train the Model\n",
    "Train the model for several epochs so it can learn to recognize patterns in the handwritten digits."
   ]
  },
  {
   "cell_type": "code",
   "execution_count": 6,
   "id": "995d3fae-daa8-4a45-ba9e-ea5dbeaa3f2c",
   "metadata": {},
   "outputs": [
    {
     "name": "stdout",
     "output_type": "stream",
     "text": [
      "Epoch [1/5], Loss: 0.3841\n",
      "Epoch [2/5], Loss: 0.1989\n",
      "Epoch [3/5], Loss: 0.1429\n",
      "Epoch [4/5], Loss: 0.1146\n",
      "Epoch [5/5], Loss: 0.0947\n"
     ]
    }
   ],
   "source": [
    "# Training loop\n",
    "epochs = 5\n",
    "for epoch in range(epochs):\n",
    "    running_loss = 0.0\n",
    "    for images, labels in train_loader:\n",
    "        optimizer.zero_grad()             # Reset gradients before processing this batch\n",
    "        outputs = model(images)           # Forward pass: compute model predictions\n",
    "        loss = criterion(outputs, labels) # Compute loss comparing predictions to true labels\n",
    "        loss.backward()                   # Backpropagate the loss to compute gradients\n",
    "        optimizer.step()                  # Update model weights using gradients\n",
    "        running_loss += loss.item()       # Accumulate loss to track progress over the epoch\n",
    "\n",
    "    # Print average loss for this epoch\n",
    "    print(f\"Epoch [{epoch+1}/{epochs}], Loss: {running_loss/len(train_loader):.4f}\")"
   ]
  },
  {
   "cell_type": "markdown",
   "id": "221b823e-2a42-4635-a5b3-c84777c6cee0",
   "metadata": {},
   "source": [
    "## Step 7: Evaluate Model Accuracy\n",
    "Test the trained model on unseen data to measure how accurately it predicts digit labels."
   ]
  },
  {
   "cell_type": "code",
   "execution_count": 7,
   "id": "42f233dc-7d23-4237-8458-ff3b78e59c5e",
   "metadata": {},
   "outputs": [
    {
     "name": "stdout",
     "output_type": "stream",
     "text": [
      "Test Accuracy: 96.67%\n"
     ]
    }
   ],
   "source": [
    "# Evaluate the model on the test dataset\n",
    "correct = 0\n",
    "total = 0\n",
    "\n",
    "with torch.no_grad(): # Disable gradient calculation for faster evaluation\n",
    "    for images, labels in test_loader:\n",
    "        outputs = model(images)                       # Forward pass: compute predictions\n",
    "        _, predicted = torch.max(outputs, 1)          # Get the class with the highest score\n",
    "        total += labels.size(0)                       # Count total number of images\n",
    "        correct += (predicted == labels).sum().item() # Count correct predictions\n",
    "\n",
    "print(f\"Test Accuracy: {100 * correct / total:.2f}%\")"
   ]
  },
  {
   "cell_type": "markdown",
   "id": "873711bd-9f3b-4212-82fc-14d498b7b2ae",
   "metadata": {},
   "source": [
    "## Step 8: Visualize Predictions\n",
    "Display a few test images alongside the model's predicted and true labels to see how well it performs visually."
   ]
  },
  {
   "cell_type": "code",
   "execution_count": 8,
   "id": "63e002f7-7aca-4aee-87e6-119f514f2331",
   "metadata": {},
   "outputs": [
    {
     "data": {
      "image/png": "[encoded data removed]",
      "text/plain": [
       "<Figure size 1000x400 with 5 Axes>"
      ]
     },
     "metadata": {},
     "output_type": "display_data"
    }
   ],
   "source": [
    "# Visualize predictions on a batch of test images\n",
    "images, labels = next(iter(test_loader)) # Get a batch of test images and labels\n",
    "outputs = model(images)                  # Forward pass: compute predictions\n",
    "_, predicted = torch.max(outputs, 1)     # Select class with highest score as prediction\n",
    "\n",
    "# Set up a figure to display multiple images\n",
    "plt.figure(figsize=(10, 4))\n",
    "for i in range(5):\n",
    "    plt.subplot(1, 5, i+1)                       # Create a 1x5 grid of subplots\n",
    "    plt.imshow(images[i].squeeze(), cmap='gray') # Display image in grayscale\n",
    "    plt.title(f\"Pred: {predicted[i].item()}\\nTrue: {labels[i].item()}\") # Show predicted vs true label\n",
    "    plt.axis('off')                              # Hide axes for a cleaner look\n",
    "\n",
    "plt.show() # Render the figure"
   ]
  },
  {
   "cell_type": "markdown",
   "id": "ae347c77-d2a9-4169-b4a9-54b1b8eb0dcc",
   "metadata": {},
   "source": [
    "## Step 10: Save the Model\n",
    "Save the trained model to a file so it can be reloaded later without retraining."
   ]
  },
  {
   "cell_type": "code",
   "execution_count": 9,
   "id": "e71ede4a-9195-4074-a7bb-d3d379bebfa4",
   "metadata": {},
   "outputs": [],
   "source": [
    "# Save the trained model's parameters to a file for later use\n",
    "torch.save(model.state_dict(), 'mnist_model.pth')"
   ]
  }
 ],
 "metadata": {
  "kernelspec": {
   "display_name": "Python 3 (ipykernel)",
   "language": "python",
   "name": "python3"
  },
  "language_info": {
   "codemirror_mode": {
    "name": "ipython",
    "version": 3
   },
   "file_extension": ".py",
   "mimetype": "text/x-python",
   "name": "python",
   "nbconvert_exporter": "python",
   "pygments_lexer": "ipython3",
   "version": "3.13.5"
  }
 },
 "nbformat": 4,
 "nbformat_minor": 5
}
